{
 "cells": [
  {
   "cell_type": "markdown",
   "metadata": {},
   "source": [
    "## MNIST Handwritten Digit Classification Dataset\n",
    "\n",
    "The MNIST dataset is an acronym that stands for the Modified National Institute of Standards and Technology dataset.\n",
    "\n",
    "It is a dataset of 60,000 small square 28×28 pixel grayscale images of handwritten single digits between 0 and 9.\n",
    "\n",
    "The task is to classify a given image of a handwritten digit into one of 10 classes representing integer values from 0 to 9, inclusively.\n",
    "\n",
    "It is a widely used and deeply understood dataset and, for the most part, is “solved.” Top-performing models are deep learning convolutional neural networks that achieve a classification accuracy of above 99%, with an error rate between 0.4% and 0.2% on the hold out test dataset.\n",
    "\n",
    "The example below loads the MNIST dataset using the Keras API and creates a plot of the first nine images in the training dataset."
   ]
  },
  {
   "cell_type": "code",
   "execution_count": 1,
   "metadata": {},
   "outputs": [],
   "source": [
    "dark_mode = True\n",
    "# plotting choices for dark-mode ... comment out if not using dark mode!!!\",\n",
    "if (dark_mode):\n",
    "    from jupyterthemes import jtplot\n",
    "    jtplot.style(theme='monokai', context='notebook', ticks=True, grid=False)\n",
    "    linecolor = 'w'\n",
    "else:\n",
    "    linecolor = 'k'"
   ]
  },
  {
   "cell_type": "markdown",
   "metadata": {},
   "source": [
    "## Define a load_dataset() function"
   ]
  },
  {
   "cell_type": "code",
   "execution_count": 2,
   "metadata": {},
   "outputs": [],
   "source": [
    "def shuffle_in_unison(a, b):\n",
    "    assert len(a) == len(b)\n",
    "    shuffled_a = np.empty(a.shape, dtype=a.dtype)\n",
    "    shuffled_b = np.empty(b.shape, dtype=b.dtype)\n",
    "    permutation = np.random.permutation(len(a))\n",
    "    for old_index, new_index in enumerate(permutation):\n",
    "        shuffled_a[new_index] = a[old_index]\n",
    "        shuffled_b[new_index] = b[old_index]\n",
    "    return shuffled_a, shuffled_b\n",
    "\n",
    "def load_dataset(data_slice_train = 60000, data_slice_test = 12000):\n",
    "    # load dataset\n",
    "    (trainX1, trainY1), (testX1, testY1) = mnist.load_data()\n",
    "    trainX2, trainY2 = shuffle_in_unison(trainX1,trainY1)\n",
    "    testX2, testY2 = shuffle_in_unison(testX1,testY1)\n",
    "    \n",
    "    print(trainX1.shape,trainY1.shape)\n",
    "    print(trainX2.shape,trainY2.shape)\n",
    "    \n",
    "    trainX = np.concatenate((trainX1,trainX2),axis=2)\n",
    "    testX = np.concatenate((testX1,testX2),axis=2)\n",
    "    \n",
    "    print (trainX.shape,testX.shape)\n",
    "    \n",
    "    trainY = trainY1+trainY2\n",
    "    testY = testY1+testY2\n",
    "    \n",
    "    import matplotlib.pyplot as plt\n",
    "    for i in range(9):  \n",
    "        plt.subplot(330 + 1 + i)\n",
    "        plt.imshow(trainX[i], cmap=plt.get_cmap('gray'))\n",
    "        print (trainY[i])\n",
    "    \n",
    "    plt.show()\n",
    "    \n",
    "    # reshape dataset to have a single channel\n",
    "    trainX = trainX.reshape((trainX.shape[0], 28, 56, 1))\n",
    "    testX = testX.reshape((testX.shape[0], 28, 56, 1))\n",
    "    # one hot encode target values\n",
    "    trainY = to_categorical(trainY)\n",
    "    testY = to_categorical(testY)\n",
    "    \n",
    "    trainX = trainX[:data_slice_train,:]\n",
    "    trainY = trainY[:data_slice_train,:]\n",
    "    testX = testX[:data_slice_test,:]\n",
    "    testY = testY[:data_slice_test,:]\n",
    "\n",
    "    return trainX, trainY, testX, testY"
   ]
  },
  {
   "cell_type": "markdown",
   "metadata": {},
   "source": [
    "## Convert data\n",
    "\n",
    "Next, let's convert the pixel data from integers to floats, and also let's rescale all the numbers to a value between 0 and 1.  We will write function to do this, so that we can use it for various datasets."
   ]
  },
  {
   "cell_type": "code",
   "execution_count": 3,
   "metadata": {},
   "outputs": [],
   "source": [
    "# scale pixels\n",
    "def prep_pixels(train, test):\n",
    "\t# convert from integers to floats\n",
    "\ttrain_norm = train.astype('float32')\n",
    "\ttest_norm = test.astype('float32')\n",
    "\t# normalize to range 0-1\n",
    "\ttrain_norm = train_norm / 255.0\n",
    "\ttest_norm = test_norm / 255.0\n",
    "\t# return normalized images\n",
    "\treturn train_norm, test_norm"
   ]
  },
  {
   "cell_type": "markdown",
   "metadata": {},
   "source": [
    "## Define Model\n",
    "\n",
    "Next, we need to define a baseline convolutional neural network model for the problem.\n",
    "\n",
    "The model has two main aspects: the feature extraction front end comprised of convolutional and pooling layers, and the classifier backend that will make a prediction.\n",
    "\n",
    "For the convolutional front-end, we can start with a single convolutional layer with a small filter size (3,3) and a modest number of filters (32) followed by a max pooling layer. The filter maps can then be flattened to provide features to the classifier.\n",
    "\n",
    "Given that the problem is a multi-class classification task, we know that we will require an output layer with 10 nodes in order to predict the probability distribution of an image belonging to each of the 10 classes. This will also require the use of a softmax activation function. Between the feature extractor and the output layer, we can add a dense layer to interpret the features, in this case with 100 nodes.\n",
    "\n",
    "All layers will use the ReLU activation function and the He weight initialization scheme, both best practices.\n",
    "\n",
    "We will use a conservative configuration for the stochastic gradient descent optimizer with a learning rate of 0.01 and a momentum of 0.9. The categorical cross-entropy loss function will be optimized, suitable for multi-class classification, and we will monitor the classification accuracy metric, which is appropriate given we have the same number of examples in each of the 10 classes.\n",
    "\n",
    "The define_model() function below will define and return this model."
   ]
  },
  {
   "cell_type": "code",
   "execution_count": 4,
   "metadata": {},
   "outputs": [],
   "source": [
    "# define cnn model\n",
    "def define_model(n_filters=32,filter_size=3,pool_size=2,fclayer=100,lrate=0.01,mom=0.9):\n",
    "    model = Sequential()\n",
    "    model.add(Input(shape=(28, 56, 1)))\n",
    "    model.add(Conv2D(n_filters, (filter_size, filter_size), activation='relu', kernel_initializer='he_uniform', input_shape=(28, 28, 1)))\n",
    "    model.add(MaxPooling2D((pool_size, pool_size)))\n",
    "    model.add(Flatten())\n",
    "    model.add(Dense(fclayer, activation='relu', kernel_initializer='he_uniform'))\n",
    "    model.add(Dense(19, activation='softmax'))\n",
    "    # compile model\n",
    "    opt = SGD(lr=lrate, momentum=mom)\n",
    "    model.compile(optimizer=opt, loss='categorical_crossentropy', metrics=['accuracy'])\n",
    "    return model"
   ]
  },
  {
   "cell_type": "markdown",
   "metadata": {},
   "source": [
    "## Evaluate Model\n",
    "\n",
    "After the model is defined, we need to evaluate it.\n",
    "\n",
    "The model will be evaluated using five-fold cross-validation. The value of k=5 was chosen to provide a baseline for both repeated evaluation and to not be so large as to require a long running time. Each test set will be 20% of the training dataset, or about 12,000 examples, close to the size of the actual test set for this problem.\n",
    "\n",
    "The training dataset is shuffled prior to being split, and the sample shuffling is performed each time, so that any model we evaluate will have the same train and test datasets in each fold, providing an apples-to-apples comparison between models.\n",
    "\n",
    "We will train the baseline model for a modest 10 training epochs with a default batch size of 32 examples. The test set for each fold will be used to evaluate the model both during each epoch of the training run, so that we can later create learning curves, and at the end of the run, so that we can estimate the performance of the model. As such, we will keep track of the resulting history from each run, as well as the classification accuracy of the fold.\n",
    "\n",
    "The evaluate_model() function below implements these behaviors, taking the training dataset as arguments and returning a list of accuracy scores and training histories that can be later summarized."
   ]
  },
  {
   "cell_type": "code",
   "execution_count": 5,
   "metadata": {},
   "outputs": [],
   "source": [
    "# evaluate a model using k-fold cross-validation\n",
    "def evaluate_model(dataX, dataY, \n",
    "                   n_filters=32,filter_size=3,pool_size=2,fclayer=100,lrate=0.01,mom=0.9,\n",
    "                   n_folds=5, n_epochs=10, batch=64):\n",
    "    scores, histories = list(), list()\n",
    "    # prepare cross validation\n",
    "    kfold = KFold(n_folds, shuffle=True, random_state=1)\n",
    "    # enumerate splits\n",
    "    firstTime = True\n",
    "    for train_ix, test_ix in kfold.split(dataX):\n",
    "        # define model\n",
    "        model = define_model(n_filters,filter_size,pool_size,fclayer,lrate,mom)\n",
    "        if (firstTime):\n",
    "            model.summary()\n",
    "            firstTime = False\n",
    "        # select rows for train and test\n",
    "        trainX, trainY, testX, testY = dataX[train_ix], dataY[train_ix], dataX[test_ix], dataY[test_ix]\n",
    "        # fit model\n",
    "        history = model.fit(trainX, trainY, epochs=n_epochs, batch_size=batch, validation_data=(testX, testY), verbose=0)\n",
    "        # evaluate model\n",
    "        _, acc = model.evaluate(testX, testY, verbose=0)\n",
    "        print('> %.3f' % (acc * 100.0))\n",
    "        # stores scores\n",
    "        scores.append(acc)\n",
    "        histories.append(history)\n",
    "    return scores, histories"
   ]
  },
  {
   "cell_type": "markdown",
   "metadata": {},
   "source": [
    "## Present Results\n",
    "\n",
    "Once the model has been evaluated, we can present the results.\n",
    "\n",
    "There are two key aspects to present: the diagnostics of the learning behavior of the model during training and the estimation of the model performance. These can be implemented using separate functions.\n",
    "\n",
    "First, the diagnostics involve creating a line plot showing model performance on the train and test set during each fold of the k-fold cross-validation. These plots are valuable for getting an idea of whether a model is overfitting, underfitting, or has a good fit for the dataset.\n",
    "\n",
    "We will create a single figure with two subplots, one for loss and one for accuracy. Blue lines will indicate model performance on the training dataset and orange lines will indicate performance on the hold out test dataset. The summarize_diagnostics() function below creates and shows this plot given the collected training histories."
   ]
  },
  {
   "cell_type": "code",
   "execution_count": 6,
   "metadata": {},
   "outputs": [],
   "source": [
    "# plot diagnostic learning curves\n",
    "def summarize_diagnostics(histories,scores):\n",
    "    fig = plt.figure(figsize=(14,7))\n",
    "    ax1 = fig.add_subplot(1,3,1)\n",
    "    ax2 = fig.add_subplot(1,3,2)\n",
    "    ax3 = fig.add_subplot(1,3,3)\n",
    "    for i in range(len(histories)):\n",
    "        # plot loss\n",
    "        ax1.title.set_text('Cross Entropy Loss')\n",
    "        ax1.plot(histories[i].history['loss'], color='blue',label='train '+str(i+1))\n",
    "        ax1.plot(histories[i].history['val_loss'], color='orange',label='test '+str(i+1))\n",
    "        ax1.set_ylabel('Loss')\n",
    "        ax1.set_xlabel('Epoch')\n",
    "        ax1.legend()\n",
    "        # plot accuracy\n",
    "        ax2.title.set_text('Classification Accuracy')\n",
    "        ax2.plot(histories[i].history['accuracy'], color='blue',label='train '+str(i+1))\n",
    "        ax2.plot(histories[i].history['val_accuracy'], color='orange',label='test '+str(i+1))\n",
    "        ax2.set_ylabel('Accuracy')\n",
    "        ax2.set_xlabel('Epoch')\n",
    "        ax2.legend() \n",
    "        # box and whisker plots of results\n",
    "        ax3.title.set_text('Final Result Summary')\n",
    "        ax3.boxplot(scores)\n",
    "    # print summary\n",
    "    print('Accuracy: mean=%.3f std=%.3f, n=%d' % (mean(scores)*100, std(scores)*100, len(scores)))\n",
    "    plt.show()"
   ]
  },
  {
   "cell_type": "code",
   "execution_count": null,
   "metadata": {},
   "outputs": [],
   "source": []
  },
  {
   "cell_type": "markdown",
   "metadata": {},
   "source": [
    "## Complete Example\n",
    "\n",
    "We need a function that will drive the test harness.\n",
    "\n",
    "This involves calling all of the define functions."
   ]
  },
  {
   "cell_type": "code",
   "execution_count": 7,
   "metadata": {},
   "outputs": [],
   "source": [
    "def run_test_harness(data_train_slice=60000,\n",
    "                     data_test_slice=12000,\n",
    "                     n_filters=32,filter_size=3,pool_size=2,fclayer=100,lrate=0.01,mom=0.9,\n",
    "                     n_folds=5,n_epochs=10,batch=64):\n",
    "    # load dataset\n",
    "    trainX, trainY, testX, testY = load_dataset(data_train_slice,data_test_slice)\n",
    "    \n",
    "    # prepare pixel data\n",
    "    trainX, testX = prep_pixels(trainX, testX)\n",
    "    \n",
    "    # evaluate model\n",
    "    scores, histories = evaluate_model(trainX, trainY,\n",
    "                                      n_filters,filter_size,pool_size,fclayer,lrate,mom,\n",
    "                                      n_folds,n_epochs,batch)\n",
    "    # learning curves\n",
    "    summarize_diagnostics(histories,scores)\n",
    "    return scores, histories"
   ]
  },
  {
   "cell_type": "code",
   "execution_count": null,
   "metadata": {},
   "outputs": [
    {
     "name": "stdout",
     "output_type": "stream",
     "text": [
      "(60000, 28, 28) (60000,)\n",
      "(60000, 28, 28) (60000,)\n",
      "(60000, 28, 56) (10000, 28, 56)\n",
      "7\n",
      "9\n",
      "13\n",
      "5\n",
      "17\n",
      "4\n",
      "7\n",
      "11\n",
      "3\n"
     ]
    },
    {
     "data": {
      "image/png": "[encoded data removed]",
      "text/plain": [
       "<Figure size 432x288 with 9 Axes>"
      ]
     },
     "metadata": {
      "needs_background": "dark"
     },
     "output_type": "display_data"
    },
    {
     "name": "stdout",
     "output_type": "stream",
     "text": [
      "Model: \"sequential\"\n",
      "_________________________________________________________________\n",
      "Layer (type)                 Output Shape              Param #   \n",
      "=================================================================\n",
      "conv2d (Conv2D)              (None, 22, 50, 64)        3200      \n",
      "_________________________________________________________________\n",
      "max_pooling2d (MaxPooling2D) (None, 11, 25, 64)        0         \n",
      "_________________________________________________________________\n",
      "flatten (Flatten)            (None, 17600)             0         \n",
      "_________________________________________________________________\n",
      "dense (Dense)                (None, 100)               1760100   \n",
      "_________________________________________________________________\n",
      "dense_1 (Dense)              (None, 19)                1919      \n",
      "=================================================================\n",
      "Total params: 1,765,219\n",
      "Trainable params: 1,765,219\n",
      "Non-trainable params: 0\n",
      "_________________________________________________________________\n",
      "> 90.475\n"
     ]
    }
   ],
   "source": [
    "# baseline cnn model for mnist\n",
    "import numpy as np\n",
    "from numpy import mean\n",
    "from numpy import std\n",
    "import matplotlib.pyplot as plt\n",
    "from sklearn.model_selection import KFold\n",
    "from keras.datasets import mnist\n",
    "from keras.utils import to_categorical\n",
    "from keras.models import Sequential\n",
    "from keras.layers import Input\n",
    "from keras.layers import Conv2D\n",
    "from keras.layers import MaxPooling2D\n",
    "from keras.layers import Dense\n",
    "from keras.layers import Flatten\n",
    "from keras.optimizers import SGD\n",
    "from datetime import datetime\n",
    "\n",
    "# Still to optimized\n",
    "n_folds=5\n",
    "n_epochs=15\n",
    "\n",
    "# Optimized\n",
    "size = 60000\n",
    "n_filters= 64\n",
    "filter_size = 7\n",
    "pool_size = 2\n",
    "fclayer = 100\n",
    "lrate = 0.05\n",
    "mom = 0.9\n",
    "batch = 64\n",
    "\n",
    "scores,histories = run_test_harness(size,int(size/5),\n",
    "                                        n_filters,filter_size,pool_size,fclayer,lrate,mom,\n",
    "                                        n_folds,n_epochs,batch)"
   ]
  },
  {
   "cell_type": "code",
   "execution_count": null,
   "metadata": {},
   "outputs": [],
   "source": []
  },
  {
   "cell_type": "markdown",
   "metadata": {},
   "source": [
    "The various parameters are:\n",
    "\n",
    "1. Number of filters (64)\n",
    "2. Size of the filter (7 x 7)\n",
    "3. Size of the max_pooling filter (2 x 2)\n",
    "4. Number of nodes in the fully connected layer (100)\n",
    "5. Learning rate of the SGD optimizer (0.05)\n",
    "6. Momentum of the SGD optimizer (0.9)\n",
    "7. Number of cross validation folds (5)\n",
    "8. Number of epochs (20)\n",
    "9. Batch Size (64)\n",
    "\n",
    "These values were chosen based on optimization studies carried out separately.\n"
   ]
  },
  {
   "cell_type": "code",
   "execution_count": null,
   "metadata": {},
   "outputs": [],
   "source": []
  },
  {
   "cell_type": "code",
   "execution_count": null,
   "metadata": {},
   "outputs": [],
   "source": []
  },
  {
   "cell_type": "code",
   "execution_count": null,
   "metadata": {},
   "outputs": [],
   "source": []
  }
 ],
 "metadata": {
  "kernelspec": {
   "display_name": "Python 3",
   "language": "python",
   "name": "python3"
  },
  "language_info": {
   "codemirror_mode": {
    "name": "ipython",
    "version": 3
   },
   "file_extension": ".py",
   "mimetype": "text/x-python",
   "name": "python",
   "nbconvert_exporter": "python",
   "pygments_lexer": "ipython3",
   "version": "3.6.8"
  }
 },
 "nbformat": 4,
 "nbformat_minor": 4
}
